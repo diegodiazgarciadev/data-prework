{
 "cells": [
  {
   "cell_type": "markdown",
   "metadata": {},
   "source": [
    "<img src=\"https://bit.ly/2VnXWr2\" width=\"100\" align=\"left\">"
   ]
  },
  {
   "cell_type": "markdown",
   "metadata": {},
   "source": [
    "# Rock, Paper & Scissors\n",
    "\n",
    "Let's play the famous game against our computer. You can check the rules [here](https://en.wikipedia.org/wiki/Rock%E2%80%93paper%E2%80%93scissors). \n",
    "\n",
    "## Task\n",
    "Create a program that imitates the playability of the well known game of rock, paper, scissors. Follow the guidelines provided.\n",
    "\n",
    "## Tools\n",
    "1. Loop: **for/while**\n",
    "2. Functions: **input(), print()...**\n",
    "3. Conditional statements: **if, elif, else**\n",
    "4. Definition of functions. Modular programming\n",
    "5. Import modules\n",
    "\n",
    "**To solve this challenge, the use of functions is recommended.**\n",
    "\n",
    "#### 1. Import the choice function of the random module."
   ]
  },
  {
   "cell_type": "code",
   "execution_count": 108,
   "metadata": {},
   "outputs": [],
   "source": [
    "from random import choice as ch\n"
   ]
  },
  {
   "cell_type": "markdown",
   "metadata": {},
   "source": [
    "#### 2. Create a list that includes the 3 possible gesture options of the game: 'rock', 'paper' or 'scissors'. Store the list in a variable called `gestures`."
   ]
  },
  {
   "cell_type": "code",
   "execution_count": 109,
   "metadata": {},
   "outputs": [],
   "source": [
    "gestures = [\"rock\", \"paper\", \"scissors\"]"
   ]
  },
  {
   "cell_type": "markdown",
   "metadata": {},
   "source": [
    "#### 3. Create a variable called `n_rounds` to store the maximum number of rounds to play in a game. \n",
    "Remember that the number of rounds must be odd: 1, 3, 5, ..."
   ]
  },
  {
   "cell_type": "code",
   "execution_count": 110,
   "metadata": {},
   "outputs": [],
   "source": [
    "n_rounds = 3"
   ]
  },
  {
   "cell_type": "markdown",
   "metadata": {},
   "source": [
    "#### 4. Create a variable called `rounds_to_win` to store the number of rounds that a player must win to win the game.\n",
    "**Hint**: the value stored in `rounds_to_win` depends on the value of `n_rounds`. "
   ]
  },
  {
   "cell_type": "code",
   "execution_count": 111,
   "metadata": {},
   "outputs": [
    {
     "data": {
      "text/plain": [
       "2"
      ]
     },
     "execution_count": 111,
     "metadata": {},
     "output_type": "execute_result"
    }
   ],
   "source": [
    "rounds_to_win  = int(n_rounds/2) +1\n",
    "rounds_to_win"
   ]
  },
  {
   "cell_type": "markdown",
   "metadata": {},
   "source": [
    "#### 5. Create two variables to store the number of rounds that the computer and the player have won. Call these variables `cpu_score` and `player_score`."
   ]
  },
  {
   "cell_type": "code",
   "execution_count": 112,
   "metadata": {},
   "outputs": [],
   "source": [
    "cpu_score = 0\n",
    "player_score = 0"
   ]
  },
  {
   "cell_type": "markdown",
   "metadata": {},
   "source": [
    "#### 6. Define a function that randomly returns one of the 3 gesture options.\n",
    "You will use this function to simulate the gesture choice of the computer. "
   ]
  },
  {
   "cell_type": "code",
   "execution_count": 113,
   "metadata": {},
   "outputs": [],
   "source": [
    "def cpu_input():\n",
    "    return ch(gestures)\n",
    "\n"
   ]
  },
  {
   "cell_type": "markdown",
   "metadata": {},
   "source": [
    "#### 7. Define a function that asks the player which is the gesture he or she wants to show: 'rock', 'paper' or 'scissors'.\n",
    "The player should only be allowed to choose one of the 3 gesture options. If the player's choice is not rock, paper or scissors, keep asking until it is."
   ]
  },
  {
   "cell_type": "code",
   "execution_count": 114,
   "metadata": {},
   "outputs": [],
   "source": [
    "def user_input ():\n",
    "    input_gesture = input( \"which is the gesture would you like to use :'rock', 'paper' or 'scissors' \")\n",
    "    correct = False\n",
    "    while (correct == False):\n",
    "        if input_gesture== 'exit':\n",
    "            break\n",
    "        if (input_gesture=='rock') | (input_gesture=='paper') | (input_gesture=='scissors'):\n",
    "            correct = True\n",
    "        else:\n",
    "            input_gesture = input( \"which is the gesture would you like to use :'rock', 'paper' or 'scissors' \")\n",
    "    return input_gesture   "
   ]
  },
  {
   "cell_type": "markdown",
   "metadata": {},
   "source": [
    "#### 8. Define a function that checks who won a round. \n",
    "The function should return 0 if there is a tie, 1 if the computer wins and 2 if the player wins."
   ]
  },
  {
   "cell_type": "code",
   "execution_count": 115,
   "metadata": {},
   "outputs": [],
   "source": [
    "def check_round (cpu_choice, user_choice):\n",
    "    if cpu_choice == user_choice :\n",
    "        return 0\n",
    "    #user wins\n",
    "    elif ( ((user_choice == \"scissors\") & (cpu_choice == \"paper\")) | ((user_choice == \"paper\") & (cpu_choice == \"rock\")) | ((user_choice == \"rock\") & (cpu_choice == \"scissors\"))):\n",
    "        return 2\n",
    "    else:\n",
    "        #cpu wins\n",
    "        return 1\n",
    "    "
   ]
  },
  {
   "cell_type": "markdown",
   "metadata": {},
   "source": [
    "#### 9. Define a function that prints the choice of the computer, the choice of the player and a message that announces who won the current round. \n",
    "You should also use this function to update the variables that count the number of rounds that the computer and the player have won. The score of the winner increases by one point. If there is a tie, the score does not increase."
   ]
  },
  {
   "cell_type": "code",
   "execution_count": 116,
   "metadata": {},
   "outputs": [],
   "source": [
    "def current_round(cpu_choice, user_choice):\n",
    "    \n",
    "    global cpu_score\n",
    "    global player_score\n",
    "    global n_rounds\n",
    "\n",
    "    \n",
    "    winner = check_round(cpu_choice, user_choice )\n",
    "    if winner == 1:\n",
    "        cpu_score += 1\n",
    "        print(\"Winner of the round : CPU\")\n",
    "    elif winner ==2:\n",
    "        player_score += 1\n",
    "        print(\"Winner of the round : USER\")\n",
    "    else:\n",
    "        print (\"TIE!!!\")\n",
    "        \n"
   ]
  },
  {
   "cell_type": "markdown",
   "metadata": {},
   "source": [
    "#### 10. Now it's time to code the execution of the game using the functions and variables you defined above. \n",
    "\n",
    "First, create a loop structure that repeats while no player reaches the minimum score necessary to win and the number of rounds is less than the maximum number of rounds to play in a game.  \n",
    "\n",
    "Inside the loop, use the functions and variables above to create the execution of a round: ask for the player's choice, generate the random choice of the computer, show the round results, update the scores, etc. "
   ]
  },
  {
   "cell_type": "code",
   "execution_count": 122,
   "metadata": {},
   "outputs": [
    {
     "name": "stdout",
     "output_type": "stream",
     "text": [
      "which is the gesture would you like to use :'rock', 'paper' or 'scissors' rock\n",
      "user_choice:  rock\n",
      "cpu_choice:  scissors\n",
      "Winner of the round : USER\n",
      "which is the gesture would you like to use :'rock', 'paper' or 'scissors' rock\n",
      "user_choice:  rock\n",
      "cpu_choice:  paper\n",
      "Winner of the round : CPU\n",
      "which is the gesture would you like to use :'rock', 'paper' or 'scissors' rock\n",
      "user_choice:  rock\n",
      "cpu_choice:  scissors\n",
      "Winner of the round : USER\n",
      "---------------------\n",
      "---GAME WINNEEEER:---\n",
      "--------USER---------\n"
     ]
    }
   ],
   "source": [
    "playing = True\n",
    "cpu_score = 0\n",
    "player_score = 0\n",
    "\n",
    "user_choice = user_input()\n",
    "print(\"user_choice: \", user_choice)\n",
    "cpu_choice = cpu_input()\n",
    "print (\"cpu_choice: \", cpu_choice) \n",
    "\n",
    "while (playing):\n",
    "    if ( cpu_score<rounds_to_win) & (player_score <rounds_to_win):\n",
    "        current_round(cpu_choice, user_choice)   \n",
    "    \n",
    "    if cpu_score == rounds_to_win :\n",
    "        print(\"---------------------\")\n",
    "        print(\"---GAME WINNEEEER:---\")\n",
    "        print(\"--------CPU----------\")\n",
    "        playing = False\n",
    "    elif player_score== rounds_to_win:  \n",
    "        print(\"---------------------\")\n",
    "        print(\"---GAME WINNEEEER:---\")\n",
    "        print(\"--------USER---------\")\n",
    "        playing = False\n",
    "   \n",
    "    else:   \n",
    "        user_choice = user_input()\n",
    "        print(\"user_choice: \", user_choice)\n",
    "        cpu_choice = cpu_input()\n",
    "        print (\"cpu_choice: \", cpu_choice)    \n",
    "  \n",
    "    "
   ]
  },
  {
   "cell_type": "markdown",
   "metadata": {},
   "source": [
    "#### 11. Print the winner of the game based on who won more rounds.\n",
    "Remember that the game might be tied. "
   ]
  },
  {
   "cell_type": "code",
   "execution_count": 123,
   "metadata": {},
   "outputs": [
    {
     "name": "stdout",
     "output_type": "stream",
     "text": [
      "---------------------\n",
      "---ROUNDS WINNEEEER:-\n",
      "--------USER---------\n"
     ]
    }
   ],
   "source": [
    "if player_score > cpu_score:\n",
    "        print(\"---------------------\")\n",
    "        print(\"---ROUNDS WINNEEEER:-\")\n",
    "        print(\"--------USER---------\")\n",
    "elif cpu_score > player_score:   \n",
    "        print(\"---------------------\")\n",
    "        print(\"---ROUNDS WINNEEEER:-\")\n",
    "        print(\"--------CPU----------\")\n",
    "else:\n",
    "        print(\"---------------------\")\n",
    "        print(\"---------TIE---------\")\n",
    "        print(\"---------------------\")\n",
    "    \n",
    "    "
   ]
  },
  {
   "cell_type": "markdown",
   "metadata": {},
   "source": [
    "# Bonus: Rock, Paper, Scissors, Lizard & Spock\n",
    "![](images/rpsls.jpg)\n",
    "\n",
    "In this challenge, you need to improve the previous game by adding two new options. To know more about the rules of the improved version of rock, paper, scissors, check this [link](http://www.samkass.com/theories/RPSSL.html). \n",
    "\n",
    "In addition, you will also need to improve how the game interacts with the player: the number of rounds to play, which must be an odd number, will be requested to the user until a valid number is entered. Define a new function to make that request.\n",
    "\n",
    "**Hint**: Try to reuse the code that you already coded in the previous challenge. If your code is efficient, this bonus will only consist of simple modifications to the original game."
   ]
  },
  {
   "cell_type": "code",
   "execution_count": 159,
   "metadata": {},
   "outputs": [],
   "source": [
    "from random import choice as ch\n",
    "gestures_bonus = [\"rock\", \"paper\", \"scissors\", \"lizard\", \"spock\"]\n",
    "\n",
    "cpu_score_bonus = 0\n",
    "player_score_bonus = 0\n",
    "\n",
    "def cpu_input_bonus():\n",
    "    return ch(gestures_bonus)\n",
    "\n",
    "def user_input_rounds ():\n",
    "    n_rounds_str =input( \"Please, Insert number of rounds (odd number)\")\n",
    "    correct = False\n",
    "    while (not correct):\n",
    "        if (n_rounds_str.isnumeric()):\n",
    "            n_rounds_int = int(n_rounds_str)\n",
    "            if (n_rounds_int%2 == 1): \n",
    "                correct = True\n",
    "                return n_rounds_int\n",
    "            else:\n",
    "                n_rounds_str = input( \"Please, Insert number an odd number\")\n",
    "        n_rounds_str =input( \"Please, Insert number of rounds (odd number)\")         \n",
    "                \n",
    "\n",
    "def user_input_bonus ():\n",
    "    input_gesture_bonus = input( \"which is the gesture would you like to use :'rock', 'paper', 'scissors', 'lizard' or 'spock'\")\n",
    "    correct = False\n",
    "    while (not correct):\n",
    "        if (input_gesture_bonus=='rock') | (input_gesture_bonus=='paper') | (input_gesture_bonus=='scissors')| (input_gesture_bonus=='lizard')| (input_gesture_bonus=='spock'):\n",
    "            correct = True\n",
    "        else:\n",
    "            input_gesture_bonus = input( \"which is the gesture would you like to use :'rock', 'paper', 'scissors', 'lizard' or 'spock'\")\n",
    "    return input_gesture_bonus   \n",
    "\n",
    "\n",
    "\n",
    "def check_round_bonus (cpu_choice, user_choice):\n",
    "    if cpu_choice == user_choice :\n",
    "        return 0\n",
    "    #user wins\n",
    "    elif ( ((user_choice == \"scissors\") & (cpu_choice == \"paper\")) | \n",
    "           ((user_choice == \"scissors\") & (cpu_choice == \"lizard\")) | \n",
    "           ((user_choice == \"paper\") & (cpu_choice == \"rock\")) |\n",
    "           ((user_choice == \"paper\") & (cpu_choice == \"spock\")) | \n",
    "           ((user_choice == \"rock\") & (cpu_choice == \"scissors\"))| \n",
    "           ((user_choice == \"rock\") & (cpu_choice == \"lizard\")) |\n",
    "           ((user_choice == \"lizard\") & (cpu_choice == \"spock\")) |\n",
    "           ((user_choice == \"lizard\") & (cpu_choice == \"paper\")) |\n",
    "           ((user_choice == \"spock\") & (cpu_choice == \"scissors\")) |\n",
    "           ((user_choice == \"spock\") & (cpu_choice == \"rock\"))):\n",
    "        return 2\n",
    "    else:\n",
    "        #cpu wins\n",
    "        return 1\n",
    "    \n",
    "def current_round_bonus(cpu_choice, user_choice):\n",
    "    \n",
    "    global cpu_score_bonus\n",
    "    global player_score_bonus\n",
    "    \n",
    "    winner = check_round_bonus(cpu_choice, user_choice )\n",
    "    if winner == 1:\n",
    "        cpu_score_bonus += 1\n",
    "        print(\"Winner of the round : CPU\")\n",
    "    elif winner ==2:\n",
    "        player_score_bonus += 1\n",
    "        print(\"Winner of the round : USER\")\n",
    "    else:\n",
    "        print (\"TIE!!!\")"
   ]
  },
  {
   "cell_type": "code",
   "execution_count": 160,
   "metadata": {},
   "outputs": [
    {
     "name": "stdout",
     "output_type": "stream",
     "text": [
      "Please, Insert number of rounds (odd number)adf\n",
      "Please, Insert number of rounds (odd number)adf\n",
      "Please, Insert number of rounds (odd number)4\n",
      "Please, Insert number an odd number4\n",
      "Please, Insert number of rounds (odd number)3\n",
      "which is the gesture would you like to use :'rock', 'paper', 'scissors', 'lizard' or 'spock'lizard\n",
      "user_choice:  lizard\n",
      "cpu_choice:  rock\n",
      "Winner of the round : CPU\n",
      "which is the gesture would you like to use :'rock', 'paper', 'scissors', 'lizard' or 'spock'lizard\n",
      "user_choice:  lizard\n",
      "cpu_choice:  rock\n",
      "Winner of the round : CPU\n",
      "---------------------\n",
      "---GAME WINNEEEER:---\n",
      "--------CPU----------\n"
     ]
    }
   ],
   "source": [
    "playing_bonus = True\n",
    "cpu_score_bonus = 0\n",
    "player_score_bonus = 0\n",
    "\n",
    "n_rounds_bonus = user_input_rounds()\n",
    "rounds_to_win_bonus  = int(n_rounds_bonus/2) +1\n",
    "\n",
    "user_choice = user_input_bonus()\n",
    "print(\"user_choice: \", user_choice)\n",
    "cpu_choice = cpu_input_bonus()\n",
    "print (\"cpu_choice: \", cpu_choice) \n",
    "\n",
    "while (playing_bonus):\n",
    "    if ( playing_bonus<rounds_to_win_bonus) & (player_score_bonus <rounds_to_win_bonus):\n",
    "        current_round_bonus(cpu_choice, user_choice)   \n",
    "    \n",
    "    if cpu_score_bonus == rounds_to_win_bonus :\n",
    "        print(\"---------------------\")\n",
    "        print(\"---GAME WINNEEEER:---\")\n",
    "        print(\"--------CPU----------\")\n",
    "        playing_bonus = False\n",
    "    elif player_score_bonus== rounds_to_win_bonus:  \n",
    "        print(\"---------------------\")\n",
    "        print(\"---GAME WINNEEEER:---\")\n",
    "        print(\"--------USER---------\")\n",
    "        playing_bonus = False\n",
    "   \n",
    "    else:   \n",
    "        user_choice = user_input_bonus()\n",
    "        print(\"user_choice: \", user_choice)\n",
    "        cpu_choice = cpu_input()\n",
    "        print (\"cpu_choice: \", cpu_choice)"
   ]
  }
 ],
 "metadata": {
  "kernelspec": {
   "display_name": "Python 3",
   "language": "python",
   "name": "python3"
  },
  "language_info": {
   "codemirror_mode": {
    "name": "ipython",
    "version": 3
   },
   "file_extension": ".py",
   "mimetype": "text/x-python",
   "name": "python",
   "nbconvert_exporter": "python",
   "pygments_lexer": "ipython3",
   "version": "3.8.10"
  }
 },
 "nbformat": 4,
 "nbformat_minor": 2
}
